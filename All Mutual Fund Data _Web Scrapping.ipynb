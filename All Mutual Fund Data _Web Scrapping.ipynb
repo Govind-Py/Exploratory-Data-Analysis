{
 "cells": [
  {
   "cell_type": "code",
   "execution_count": 1,
   "metadata": {},
   "outputs": [],
   "source": [
    "import pandas as pd\n",
    "import numpy as np\n",
    "from bs4 import BeautifulSoup # Case sensitive \n",
    "import requests"
   ]
  },
  {
   "cell_type": "code",
   "execution_count": 2,
   "metadata": {},
   "outputs": [],
   "source": [
    "# Grow page URL\n",
    "url='https://groww.in/mutual-funds/filter'"
   ]
  },
  {
   "cell_type": "code",
   "execution_count": 6,
   "metadata": {},
   "outputs": [],
   "source": [
    "# Getting the HTML page of the the mentioned URL\n",
    "page=requests.get(url)\n"
   ]
  },
  {
   "cell_type": "code",
   "execution_count": 15,
   "metadata": {},
   "outputs": [],
   "source": [
    "# Now need to pass this page into Html parser\n",
    "soup=BeautifulSoup(page.content, 'html.parser')"
   ]
  },
  {
   "cell_type": "code",
   "execution_count": 24,
   "metadata": {
    "scrolled": true
   },
   "outputs": [],
   "source": [
    "fund=soup.find_all('tr', {\"class\":\"f22Card\"})"
   ]
  },
  {
   "cell_type": "code",
   "execution_count": null,
   "metadata": {},
   "outputs": [],
   "source": []
  },
  {
   "cell_type": "code",
   "execution_count": 37,
   "metadata": {},
   "outputs": [],
   "source": [
    "# finding the name of the fund\n",
    "fund_name=fund[0].find('div', {\"class\":\"fs14 clrText fw500 f22LH34 f22Mb4 truncate\"}).text.strip()"
   ]
  },
  {
   "cell_type": "code",
   "execution_count": 38,
   "metadata": {},
   "outputs": [
    {
     "data": {
      "text/plain": [
       "'Quant Small Cap Fund Direct Plan Growth'"
      ]
     },
     "execution_count": 38,
     "metadata": {},
     "output_type": "execute_result"
    }
   ],
   "source": [
    "fund_name"
   ]
  },
  {
   "cell_type": "code",
   "execution_count": 39,
   "metadata": {},
   "outputs": [],
   "source": [
    "# finding the fund risk level\n",
    "fund_risk=fund[0].find('div', {\"class\":\"fs12 fw500 clrSubText f22Ls2\"}).text.strip()"
   ]
  },
  {
   "cell_type": "code",
   "execution_count": 43,
   "metadata": {},
   "outputs": [
    {
     "data": {
      "text/plain": [
       "'Very High Risk'"
      ]
     },
     "execution_count": 43,
     "metadata": {},
     "output_type": "execute_result"
    }
   ],
   "source": [
    "fund_risk"
   ]
  },
  {
   "cell_type": "code",
   "execution_count": 44,
   "metadata": {},
   "outputs": [],
   "source": [
    "# finding the fund category\n",
    "fund_category=fund[0].find('div', {\"class\":\"fs12 fw500clrSubText f22Ls2\"}).text.strip()"
   ]
  },
  {
   "cell_type": "code",
   "execution_count": 46,
   "metadata": {},
   "outputs": [
    {
     "data": {
      "text/plain": [
       "'Equity'"
      ]
     },
     "execution_count": 46,
     "metadata": {},
     "output_type": "execute_result"
    }
   ],
   "source": [
    "fund_category"
   ]
  },
  {
   "cell_type": "code",
   "execution_count": null,
   "metadata": {},
   "outputs": [],
   "source": [
    "# finding the fund rating\n",
    "fund_rating=fund[0].find('div', {\"class\":\"fs12 fw500 clrSubText f22Ls2 valign-wrapper\"}).text"
   ]
  },
  {
   "cell_type": "code",
   "execution_count": 99,
   "metadata": {},
   "outputs": [
    {
     "data": {
      "text/plain": [
       "'5'"
      ]
     },
     "execution_count": 99,
     "metadata": {},
     "output_type": "execute_result"
    }
   ],
   "source": [
    "fund_rating"
   ]
  },
  {
   "cell_type": "code",
   "execution_count": 49,
   "metadata": {},
   "outputs": [],
   "source": [
    "# Finding the 1yr, 3yr and 5 yr return\n",
    "return_1yr=fund[0].find_all(\"div\", {\"class\":\"fs14 clrText fw500 center-align f22Mb4\"})[0].text.strip()\n",
    "return_3yr=fund[0].find_all(\"div\", {\"class\":\"fs14 clrText fw500 center-align f22Mb4\"})[1].text.strip()\n",
    "return_5yr=fund[0].find_all(\"div\", {\"class\":\"fs14 clrText fw500 center-align f22Mb4\"})[2].text.strip()"
   ]
  },
  {
   "cell_type": "code",
   "execution_count": 90,
   "metadata": {},
   "outputs": [
    {
     "data": {
      "text/plain": [
       "'12.91%'"
      ]
     },
     "execution_count": 90,
     "metadata": {},
     "output_type": "execute_result"
    }
   ],
   "source": [
    "return_1yr"
   ]
  },
  {
   "cell_type": "code",
   "execution_count": 91,
   "metadata": {},
   "outputs": [
    {
     "data": {
      "text/plain": [
       "'54.68%'"
      ]
     },
     "execution_count": 91,
     "metadata": {},
     "output_type": "execute_result"
    }
   ],
   "source": [
    "return_3yr"
   ]
  },
  {
   "cell_type": "code",
   "execution_count": 92,
   "metadata": {},
   "outputs": [
    {
     "data": {
      "text/plain": [
       "'24.09%'"
      ]
     },
     "execution_count": 92,
     "metadata": {},
     "output_type": "execute_result"
    }
   ],
   "source": [
    "return_5yr"
   ]
  },
  {
   "cell_type": "code",
   "execution_count": 120,
   "metadata": {},
   "outputs": [],
   "source": [
    "# Saving all this values to respective list\n",
    "f_name=[]\n",
    "f_risk=[]\n",
    "f_category=[]\n",
    "f_rating=[]\n",
    "f_return1yr=[]\n",
    "f_return3yr=[]\n",
    "f_return5yr=[]\n",
    "\n"
   ]
  },
  {
   "cell_type": "code",
   "execution_count": 121,
   "metadata": {},
   "outputs": [],
   "source": [
    "# Finding all the funds available on a single page\n",
    "for item in fund:\n",
    "    f_name.append(item.find('div', {\"class\":\"fs14 clrText fw500 f22LH34 f22Mb4 truncate\"}).text.strip())\n",
    "    f_risk.append(item.find('div', {\"class\":\"fs12 fw500 clrSubText f22Ls2\"}).text.strip())\n",
    "    f_category.append(item.find('div', {\"class\":\"fs12 fw500clrSubText f22Ls2\"}).text.strip())\n",
    "    #f_rating.append(item.find('div', {\"class\":\"fs12 fw500 clrSubText f22Ls2 valign-wrapper\"}).text)\n",
    "    f_return1yr.append(item.find_all(\"div\", {\"class\":\"fs14 clrText fw500 center-align f22Mb4\"})[0].text.strip())\n",
    "    f_return3yr.append(item.find_all(\"div\", {\"class\":\"fs14 clrText fw500 center-align f22Mb4\"})[1].text.strip())\n",
    "    f_return5yr.append(item.find_all(\"div\", {\"class\":\"fs14 clrText fw500 center-align f22Mb4\"})[2].text.strip())\n",
    "    try: \n",
    "        f_rating.append(item.find('div',class_=\"fs12 fw500 clrSubText f22Ls2 valign-wrapper\").text.strip())\n",
    "    except:\n",
    "        f_rating.append(np.nan)\n",
    "# now need to convert this list data into dataframe, defining the column values and converting it into a dictionary\n",
    "dict={\"Name\":f_name, \"Risk\":f_risk, \"Category\":f_category, \"Rating\":f_rating,\"1 Year Return\":f_return1yr, \"3 Years Return\":f_return3yr, \"5 Years Return\":f_return5yr}"
   ]
  },
  {
   "cell_type": "code",
   "execution_count": 131,
   "metadata": {},
   "outputs": [],
   "source": [
    "# Converting the disctionary into dataframe\n",
    "df=pd.DataFrame(dict)"
   ]
  },
  {
   "cell_type": "code",
   "execution_count": 132,
   "metadata": {},
   "outputs": [
    {
     "data": {
      "text/html": [
       "<div>\n",
       "<style scoped>\n",
       "    .dataframe tbody tr th:only-of-type {\n",
       "        vertical-align: middle;\n",
       "    }\n",
       "\n",
       "    .dataframe tbody tr th {\n",
       "        vertical-align: top;\n",
       "    }\n",
       "\n",
       "    .dataframe thead th {\n",
       "        text-align: right;\n",
       "    }\n",
       "</style>\n",
       "<table border=\"1\" class=\"dataframe\">\n",
       "  <thead>\n",
       "    <tr style=\"text-align: right;\">\n",
       "      <th></th>\n",
       "      <th>Name</th>\n",
       "      <th>Risk</th>\n",
       "      <th>Category</th>\n",
       "      <th>Rating</th>\n",
       "      <th>1 Year Return</th>\n",
       "      <th>3 Years Return</th>\n",
       "      <th>5 Years Return</th>\n",
       "    </tr>\n",
       "  </thead>\n",
       "  <tbody>\n",
       "    <tr>\n",
       "      <th>0</th>\n",
       "      <td>Quant Small Cap Fund Direct Plan Growth</td>\n",
       "      <td>Very High Risk</td>\n",
       "      <td>Equity</td>\n",
       "      <td>5</td>\n",
       "      <td>12.91%</td>\n",
       "      <td>54.68%</td>\n",
       "      <td>24.09%</td>\n",
       "    </tr>\n",
       "    <tr>\n",
       "      <th>1</th>\n",
       "      <td>Bank of India Small Cap Fund Direct Growth</td>\n",
       "      <td>Very High Risk</td>\n",
       "      <td>Equity</td>\n",
       "      <td>4</td>\n",
       "      <td>7.96%</td>\n",
       "      <td>41.78%</td>\n",
       "      <td>NA%</td>\n",
       "    </tr>\n",
       "    <tr>\n",
       "      <th>2</th>\n",
       "      <td>ICICI Prudential Commodities Fund Direct Growth</td>\n",
       "      <td>High Risk</td>\n",
       "      <td>Equity</td>\n",
       "      <td>NaN</td>\n",
       "      <td>21.60%</td>\n",
       "      <td>41.64%</td>\n",
       "      <td>NA%</td>\n",
       "    </tr>\n",
       "    <tr>\n",
       "      <th>3</th>\n",
       "      <td>Canara Robeco Small Cap Fund Direct Growth</td>\n",
       "      <td>Very High Risk</td>\n",
       "      <td>Equity</td>\n",
       "      <td>5</td>\n",
       "      <td>14.88%</td>\n",
       "      <td>41.38%</td>\n",
       "      <td>NA%</td>\n",
       "    </tr>\n",
       "    <tr>\n",
       "      <th>4</th>\n",
       "      <td>Quant Tax Plan Direct Growth</td>\n",
       "      <td>Very High Risk</td>\n",
       "      <td>Equity</td>\n",
       "      <td>5</td>\n",
       "      <td>17.25%</td>\n",
       "      <td>41.27%</td>\n",
       "      <td>24.48%</td>\n",
       "    </tr>\n",
       "    <tr>\n",
       "      <th>5</th>\n",
       "      <td>Quant Infrastructure Fund Direct Growth</td>\n",
       "      <td>Very High Risk</td>\n",
       "      <td>Equity</td>\n",
       "      <td>5</td>\n",
       "      <td>17.74%</td>\n",
       "      <td>41.00%</td>\n",
       "      <td>23.06%</td>\n",
       "    </tr>\n",
       "    <tr>\n",
       "      <th>6</th>\n",
       "      <td>PGIM India Midcap Opportunities Fund Direct Gr...</td>\n",
       "      <td>Very High Risk</td>\n",
       "      <td>Equity</td>\n",
       "      <td>5</td>\n",
       "      <td>8.92%</td>\n",
       "      <td>39.43%</td>\n",
       "      <td>20.25%</td>\n",
       "    </tr>\n",
       "    <tr>\n",
       "      <th>7</th>\n",
       "      <td>Quant Flexi Cap Fund Direct Growth</td>\n",
       "      <td>Very High Risk</td>\n",
       "      <td>Equity</td>\n",
       "      <td>NaN</td>\n",
       "      <td>14.30%</td>\n",
       "      <td>38.94%</td>\n",
       "      <td>20.01%</td>\n",
       "    </tr>\n",
       "    <tr>\n",
       "      <th>8</th>\n",
       "      <td>Quant Mid Cap Fund Direct Growth</td>\n",
       "      <td>Very High Risk</td>\n",
       "      <td>Equity</td>\n",
       "      <td>5</td>\n",
       "      <td>20.84%</td>\n",
       "      <td>38.46%</td>\n",
       "      <td>22.32%</td>\n",
       "    </tr>\n",
       "    <tr>\n",
       "      <th>9</th>\n",
       "      <td>ICICI Prudential Technology Direct Plan Growth</td>\n",
       "      <td>Very High Risk</td>\n",
       "      <td>Equity</td>\n",
       "      <td>NaN</td>\n",
       "      <td>-11.54%</td>\n",
       "      <td>38.18%</td>\n",
       "      <td>27.52%</td>\n",
       "    </tr>\n",
       "    <tr>\n",
       "      <th>10</th>\n",
       "      <td>Nippon India Small Cap Fund Direct Growth</td>\n",
       "      <td>Very High Risk</td>\n",
       "      <td>Equity</td>\n",
       "      <td>4</td>\n",
       "      <td>16.57%</td>\n",
       "      <td>37.05%</td>\n",
       "      <td>17.58%</td>\n",
       "    </tr>\n",
       "    <tr>\n",
       "      <th>11</th>\n",
       "      <td>Quant Active Fund Direct Growth</td>\n",
       "      <td>Very High Risk</td>\n",
       "      <td>Equity</td>\n",
       "      <td>NaN</td>\n",
       "      <td>14.53%</td>\n",
       "      <td>36.89%</td>\n",
       "      <td>23.34%</td>\n",
       "    </tr>\n",
       "    <tr>\n",
       "      <th>12</th>\n",
       "      <td>Edelweiss Small Cap Fund Direct Growth</td>\n",
       "      <td>Very High Risk</td>\n",
       "      <td>Equity</td>\n",
       "      <td>4</td>\n",
       "      <td>10.05%</td>\n",
       "      <td>36.04%</td>\n",
       "      <td>NA%</td>\n",
       "    </tr>\n",
       "    <tr>\n",
       "      <th>13</th>\n",
       "      <td>Aditya Birla Sun Life Digital India Fund Direc...</td>\n",
       "      <td>Very High Risk</td>\n",
       "      <td>Equity</td>\n",
       "      <td>NaN</td>\n",
       "      <td>-9.68%</td>\n",
       "      <td>34.61%</td>\n",
       "      <td>26.83%</td>\n",
       "    </tr>\n",
       "    <tr>\n",
       "      <th>14</th>\n",
       "      <td>Tata Digital India Fund Direct Growth</td>\n",
       "      <td>Very High Risk</td>\n",
       "      <td>Equity</td>\n",
       "      <td>NaN</td>\n",
       "      <td>-10.94%</td>\n",
       "      <td>34.60%</td>\n",
       "      <td>28.21%</td>\n",
       "    </tr>\n",
       "  </tbody>\n",
       "</table>\n",
       "</div>"
      ],
      "text/plain": [
       "                                                 Name            Risk  \\\n",
       "0             Quant Small Cap Fund Direct Plan Growth  Very High Risk   \n",
       "1          Bank of India Small Cap Fund Direct Growth  Very High Risk   \n",
       "2     ICICI Prudential Commodities Fund Direct Growth       High Risk   \n",
       "3          Canara Robeco Small Cap Fund Direct Growth  Very High Risk   \n",
       "4                        Quant Tax Plan Direct Growth  Very High Risk   \n",
       "5             Quant Infrastructure Fund Direct Growth  Very High Risk   \n",
       "6   PGIM India Midcap Opportunities Fund Direct Gr...  Very High Risk   \n",
       "7                  Quant Flexi Cap Fund Direct Growth  Very High Risk   \n",
       "8                    Quant Mid Cap Fund Direct Growth  Very High Risk   \n",
       "9      ICICI Prudential Technology Direct Plan Growth  Very High Risk   \n",
       "10          Nippon India Small Cap Fund Direct Growth  Very High Risk   \n",
       "11                    Quant Active Fund Direct Growth  Very High Risk   \n",
       "12             Edelweiss Small Cap Fund Direct Growth  Very High Risk   \n",
       "13  Aditya Birla Sun Life Digital India Fund Direc...  Very High Risk   \n",
       "14              Tata Digital India Fund Direct Growth  Very High Risk   \n",
       "\n",
       "   Category Rating 1 Year Return 3 Years Return 5 Years Return  \n",
       "0    Equity      5        12.91%         54.68%         24.09%  \n",
       "1    Equity      4         7.96%         41.78%            NA%  \n",
       "2    Equity    NaN        21.60%         41.64%            NA%  \n",
       "3    Equity      5        14.88%         41.38%            NA%  \n",
       "4    Equity      5        17.25%         41.27%         24.48%  \n",
       "5    Equity      5        17.74%         41.00%         23.06%  \n",
       "6    Equity      5         8.92%         39.43%         20.25%  \n",
       "7    Equity    NaN        14.30%         38.94%         20.01%  \n",
       "8    Equity      5        20.84%         38.46%         22.32%  \n",
       "9    Equity    NaN       -11.54%         38.18%         27.52%  \n",
       "10   Equity      4        16.57%         37.05%         17.58%  \n",
       "11   Equity    NaN        14.53%         36.89%         23.34%  \n",
       "12   Equity      4        10.05%         36.04%            NA%  \n",
       "13   Equity    NaN        -9.68%         34.61%         26.83%  \n",
       "14   Equity    NaN       -10.94%         34.60%         28.21%  "
      ]
     },
     "execution_count": 132,
     "metadata": {},
     "output_type": "execute_result"
    }
   ],
   "source": [
    "df"
   ]
  },
  {
   "cell_type": "code",
   "execution_count": 133,
   "metadata": {},
   "outputs": [],
   "source": [
    "# Now need to perform the same  thing for all the pages\n",
    "final_df=pd.DataFrame()"
   ]
  },
  {
   "cell_type": "code",
   "execution_count": 135,
   "metadata": {},
   "outputs": [
    {
     "data": {
      "text/html": [
       "<div>\n",
       "<style scoped>\n",
       "    .dataframe tbody tr th:only-of-type {\n",
       "        vertical-align: middle;\n",
       "    }\n",
       "\n",
       "    .dataframe tbody tr th {\n",
       "        vertical-align: top;\n",
       "    }\n",
       "\n",
       "    .dataframe thead th {\n",
       "        text-align: right;\n",
       "    }\n",
       "</style>\n",
       "<table border=\"1\" class=\"dataframe\">\n",
       "  <thead>\n",
       "    <tr style=\"text-align: right;\">\n",
       "      <th></th>\n",
       "    </tr>\n",
       "  </thead>\n",
       "  <tbody>\n",
       "  </tbody>\n",
       "</table>\n",
       "</div>"
      ],
      "text/plain": [
       "Empty DataFrame\n",
       "Columns: []\n",
       "Index: []"
      ]
     },
     "execution_count": 135,
     "metadata": {},
     "output_type": "execute_result"
    }
   ],
   "source": [
    "final_df"
   ]
  },
  {
   "cell_type": "code",
   "execution_count": 136,
   "metadata": {},
   "outputs": [],
   "source": [
    "# As there are total 78 pages on grow website hence need to loop from 0 to 78 \n",
    "\n",
    "for j in range(79):\n",
    "    url='https://groww.in/mutual-funds/filter?q=&fundSize=&pageNo={}&sortBy=0'.format(j)\n",
    "    page=requests.get(url)\n",
    "    soup=BeautifulSoup(page.content, 'html.parser')\n",
    "    fund=soup.find_all('tr', {\"class\":\"f22Card\"})\n",
    "    \n",
    "    for item in fund:\n",
    "        f_name.append(item.find('div', {\"class\":\"fs14 clrText fw500 f22LH34 f22Mb4 truncate\"}).text.strip())\n",
    "        f_risk.append(item.find('div', {\"class\":\"fs12 fw500 clrSubText f22Ls2\"}).text.strip())\n",
    "        f_category.append(item.find('div', {\"class\":\"fs12 fw500clrSubText f22Ls2\"}).text.strip())\n",
    "        #f_rating.append(item.find('div', {\"class\":\"fs12 fw500 clrSubText f22Ls2 valign-wrapper\"}).text)\n",
    "        f_return1yr.append(item.find_all(\"div\", {\"class\":\"fs14 clrText fw500 center-align f22Mb4\"})[0].text.strip())\n",
    "        f_return3yr.append(item.find_all(\"div\", {\"class\":\"fs14 clrText fw500 center-align f22Mb4\"})[1].text.strip())\n",
    "        f_return5yr.append(item.find_all(\"div\", {\"class\":\"fs14 clrText fw500 center-align f22Mb4\"})[2].text.strip())\n",
    "        try: \n",
    "            f_rating.append(item.find('div',class_=\"fs12 fw500 clrSubText f22Ls2 valign-wrapper\").text.strip())\n",
    "        except:\n",
    "            f_rating.append(np.nan)\n",
    "\n",
    "            \n",
    "# now need to convert this list data into dataframe, defining the column values and converting it into a dictionary\n",
    "dict={\"Name\":f_name, \"Risk\":f_risk, \"Category\":f_category, \"Rating\":f_rating,\"1 Year Return\":f_return1yr, \"3 Years Return\":f_return3yr, \"5 Years Return\":f_return5yr}\n",
    "final_df=pd.DataFrame(dict)\n",
    "    "
   ]
  },
  {
   "cell_type": "code",
   "execution_count": 139,
   "metadata": {},
   "outputs": [
    {
     "data": {
      "text/html": [
       "<div>\n",
       "<style scoped>\n",
       "    .dataframe tbody tr th:only-of-type {\n",
       "        vertical-align: middle;\n",
       "    }\n",
       "\n",
       "    .dataframe tbody tr th {\n",
       "        vertical-align: top;\n",
       "    }\n",
       "\n",
       "    .dataframe thead th {\n",
       "        text-align: right;\n",
       "    }\n",
       "</style>\n",
       "<table border=\"1\" class=\"dataframe\">\n",
       "  <thead>\n",
       "    <tr style=\"text-align: right;\">\n",
       "      <th></th>\n",
       "      <th>Name</th>\n",
       "      <th>Risk</th>\n",
       "      <th>Category</th>\n",
       "      <th>Rating</th>\n",
       "      <th>1 Year Return</th>\n",
       "      <th>3 Years Return</th>\n",
       "      <th>5 Years Return</th>\n",
       "    </tr>\n",
       "  </thead>\n",
       "  <tbody>\n",
       "    <tr>\n",
       "      <th>0</th>\n",
       "      <td>Quant Small Cap Fund Direct Plan Growth</td>\n",
       "      <td>Very High Risk</td>\n",
       "      <td>Equity</td>\n",
       "      <td>5</td>\n",
       "      <td>12.91%</td>\n",
       "      <td>54.68%</td>\n",
       "      <td>24.09%</td>\n",
       "    </tr>\n",
       "    <tr>\n",
       "      <th>1</th>\n",
       "      <td>Bank of India Small Cap Fund Direct Growth</td>\n",
       "      <td>Very High Risk</td>\n",
       "      <td>Equity</td>\n",
       "      <td>4</td>\n",
       "      <td>7.96%</td>\n",
       "      <td>41.78%</td>\n",
       "      <td>NA%</td>\n",
       "    </tr>\n",
       "    <tr>\n",
       "      <th>2</th>\n",
       "      <td>ICICI Prudential Commodities Fund Direct Growth</td>\n",
       "      <td>High Risk</td>\n",
       "      <td>Equity</td>\n",
       "      <td>NaN</td>\n",
       "      <td>21.60%</td>\n",
       "      <td>41.64%</td>\n",
       "      <td>NA%</td>\n",
       "    </tr>\n",
       "    <tr>\n",
       "      <th>3</th>\n",
       "      <td>Canara Robeco Small Cap Fund Direct Growth</td>\n",
       "      <td>Very High Risk</td>\n",
       "      <td>Equity</td>\n",
       "      <td>5</td>\n",
       "      <td>14.88%</td>\n",
       "      <td>41.38%</td>\n",
       "      <td>NA%</td>\n",
       "    </tr>\n",
       "    <tr>\n",
       "      <th>4</th>\n",
       "      <td>Quant Tax Plan Direct Growth</td>\n",
       "      <td>Very High Risk</td>\n",
       "      <td>Equity</td>\n",
       "      <td>5</td>\n",
       "      <td>17.25%</td>\n",
       "      <td>41.27%</td>\n",
       "      <td>24.48%</td>\n",
       "    </tr>\n",
       "    <tr>\n",
       "      <th>...</th>\n",
       "      <td>...</td>\n",
       "      <td>...</td>\n",
       "      <td>...</td>\n",
       "      <td>...</td>\n",
       "      <td>...</td>\n",
       "      <td>...</td>\n",
       "      <td>...</td>\n",
       "    </tr>\n",
       "    <tr>\n",
       "      <th>1177</th>\n",
       "      <td>Axis NASDAQ 100 FoF Direct Growth</td>\n",
       "      <td>Very High Risk</td>\n",
       "      <td>Other</td>\n",
       "      <td>NaN</td>\n",
       "      <td>NA%</td>\n",
       "      <td>NA%</td>\n",
       "      <td>NA%</td>\n",
       "    </tr>\n",
       "    <tr>\n",
       "      <th>1178</th>\n",
       "      <td>Nippon India Nifty AAA PSU Bond Plus SDL Sep 2...</td>\n",
       "      <td>Moderate Risk</td>\n",
       "      <td>Other</td>\n",
       "      <td>NaN</td>\n",
       "      <td>NA%</td>\n",
       "      <td>NA%</td>\n",
       "      <td>NA%</td>\n",
       "    </tr>\n",
       "    <tr>\n",
       "      <th>1179</th>\n",
       "      <td>IDFC CRISIL IBX 90:10 SDL Plus Gilt April 2032...</td>\n",
       "      <td>Moderate Risk</td>\n",
       "      <td>Other</td>\n",
       "      <td>NaN</td>\n",
       "      <td>NA%</td>\n",
       "      <td>NA%</td>\n",
       "      <td>NA%</td>\n",
       "    </tr>\n",
       "    <tr>\n",
       "      <th>1180</th>\n",
       "      <td>Edelweiss Nifty Midcap150 Momentum 50 Index Fu...</td>\n",
       "      <td>Very High Risk</td>\n",
       "      <td>Other</td>\n",
       "      <td>NaN</td>\n",
       "      <td>NA%</td>\n",
       "      <td>NA%</td>\n",
       "      <td>NA%</td>\n",
       "    </tr>\n",
       "    <tr>\n",
       "      <th>1181</th>\n",
       "      <td>Edelweiss Nifty Smallcap 250 Index Fund Direct...</td>\n",
       "      <td>Very High Risk</td>\n",
       "      <td>Other</td>\n",
       "      <td>NaN</td>\n",
       "      <td>NA%</td>\n",
       "      <td>NA%</td>\n",
       "      <td>NA%</td>\n",
       "    </tr>\n",
       "  </tbody>\n",
       "</table>\n",
       "<p>1182 rows × 7 columns</p>\n",
       "</div>"
      ],
      "text/plain": [
       "                                                   Name            Risk  \\\n",
       "0               Quant Small Cap Fund Direct Plan Growth  Very High Risk   \n",
       "1            Bank of India Small Cap Fund Direct Growth  Very High Risk   \n",
       "2       ICICI Prudential Commodities Fund Direct Growth       High Risk   \n",
       "3            Canara Robeco Small Cap Fund Direct Growth  Very High Risk   \n",
       "4                          Quant Tax Plan Direct Growth  Very High Risk   \n",
       "...                                                 ...             ...   \n",
       "1177                  Axis NASDAQ 100 FoF Direct Growth  Very High Risk   \n",
       "1178  Nippon India Nifty AAA PSU Bond Plus SDL Sep 2...   Moderate Risk   \n",
       "1179  IDFC CRISIL IBX 90:10 SDL Plus Gilt April 2032...   Moderate Risk   \n",
       "1180  Edelweiss Nifty Midcap150 Momentum 50 Index Fu...  Very High Risk   \n",
       "1181  Edelweiss Nifty Smallcap 250 Index Fund Direct...  Very High Risk   \n",
       "\n",
       "     Category Rating 1 Year Return 3 Years Return 5 Years Return  \n",
       "0      Equity      5        12.91%         54.68%         24.09%  \n",
       "1      Equity      4         7.96%         41.78%            NA%  \n",
       "2      Equity    NaN        21.60%         41.64%            NA%  \n",
       "3      Equity      5        14.88%         41.38%            NA%  \n",
       "4      Equity      5        17.25%         41.27%         24.48%  \n",
       "...       ...    ...           ...            ...            ...  \n",
       "1177    Other    NaN           NA%            NA%            NA%  \n",
       "1178    Other    NaN           NA%            NA%            NA%  \n",
       "1179    Other    NaN           NA%            NA%            NA%  \n",
       "1180    Other    NaN           NA%            NA%            NA%  \n",
       "1181    Other    NaN           NA%            NA%            NA%  \n",
       "\n",
       "[1182 rows x 7 columns]"
      ]
     },
     "execution_count": 139,
     "metadata": {},
     "output_type": "execute_result"
    }
   ],
   "source": [
    "final_df"
   ]
  },
  {
   "cell_type": "code",
   "execution_count": 138,
   "metadata": {},
   "outputs": [],
   "source": [
    "#Saving the final file to desired location\n",
    "final_df.to_csv('F:/Learnings/DATA SCIENCE/DATA FROM CAGGLE/Pandas/Mutual Fund in India/List of All Mutual Fund.csv')"
   ]
  },
  {
   "cell_type": "code",
   "execution_count": null,
   "metadata": {},
   "outputs": [],
   "source": [
    "######--------------Thanks-----------########"
   ]
  }
 ],
 "metadata": {
  "kernelspec": {
   "display_name": "Python 3",
   "language": "python",
   "name": "python3"
  },
  "language_info": {
   "codemirror_mode": {
    "name": "ipython",
    "version": 3
   },
   "file_extension": ".py",
   "mimetype": "text/x-python",
   "name": "python",
   "nbconvert_exporter": "python",
   "pygments_lexer": "ipython3",
   "version": "3.7.4"
  }
 },
 "nbformat": 4,
 "nbformat_minor": 2
}
